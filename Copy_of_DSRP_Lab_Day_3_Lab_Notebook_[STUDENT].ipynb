{
  "nbformat": 4,
  "nbformat_minor": 0,
  "metadata": {
    "colab": {
      "provenance": []
    },
    "kernelspec": {
      "name": "python3",
      "display_name": "Python 3"
    },
    "language_info": {
      "name": "python"
    }
  },
  "cells": [
    {
      "cell_type": "markdown",
      "source": [
        "---\n",
        "# **Lab 3: Data Visualizations with matplotlib**\n",
        "---\n",
        "\n",
        "### **Description**\n",
        "In this notebook, you will be introduced to an essential step of the data science field: Data Visualization. We will explore different types of visualizations including scatter plots, line plots and bar plots.\n",
        "\n",
        "\n",
        "<br>\n",
        "\n",
        "### **Structure**\n",
        "**Part 1**: [Scatter Plots](#p1)\n",
        "\n",
        "**Part 2**: [Line Plots](#p2)\n",
        "\n",
        "**Part 3**: [Bar Plots](#p3)\n",
        "\n",
        "**Part 4**: [Improving Scatter Plots](#p4)\n",
        "\n",
        "**Part 5**: [Improving Line Plots](#p5)\n",
        "\n",
        "**Part 6**: [Improving Bar Plots](#p6)\n",
        "\n",
        "**Part 7**: [Enhancing Plot Aesthetics](#p7)\n",
        "\n",
        "**Part 8**: [Text Customization](#p8)\n",
        "\n",
        "**Part 9**: [Independent Practice](#p9) [OPTIONAL]\n",
        "\n",
        "\n",
        "<br>\n",
        "\n",
        "### **Learning Objectives**\n",
        "By the end of this lab, we will:\n",
        "* Recognize what matplotlib is and why we're using it.\n",
        "* Recognize how to implement scatter, line, and bar plots.\n",
        "\n",
        "\n",
        "<br>\n",
        "\n",
        "### **Resources**\n",
        "* [Python basics Cheat Sheet](https://docs.google.com/document/d/1NcIC6so-GM5t5kd-iS7HGapWmKc8WJyAQAI00gemBms/edit?usp=sharing)\n",
        "\n",
        "* [EDA with pandas Cheat Sheet](https://docs.google.com/document/d/1pLCyzig38Mop0Iib021X47S25WBEqZCWf7LRdpC8hGw/edit?usp=sharing)\n",
        "\n",
        "* [Data Visualization with matplotlib Cheat Sheet](https://docs.google.com/document/d/1tCKyB_E2A-S_rwTIN6JHE9lCQiK4DLTQTt25Lc-uQcs/edit?usp=sharing)\n",
        "\n",
        "* [matplotlib documentation](https://matplotlib.org/stable/)\n",
        "\n",
        "<br>\n",
        "\n",
        "**Before starting, run the code below to import all necessary functions and libraries.**\n"
      ],
      "metadata": {
        "id": "mbZXQ3rA3NwL"
      }
    },
    {
      "cell_type": "code",
      "execution_count": null,
      "metadata": {
        "id": "YCin5p2tQ2tw",
        "colab": {
          "base_uri": "https://localhost:8080/"
        },
        "outputId": "281873db-caaf-4237-8969-b88dfd5d48a8"
      },
      "outputs": [
        {
          "output_type": "stream",
          "name": "stdout",
          "text": [
            "Requirement already satisfied: matplotlib in /usr/local/lib/python3.10/dist-packages (3.8.0)\n",
            "Requirement already satisfied: contourpy>=1.0.1 in /usr/local/lib/python3.10/dist-packages (from matplotlib) (1.3.0)\n",
            "Requirement already satisfied: cycler>=0.10 in /usr/local/lib/python3.10/dist-packages (from matplotlib) (0.12.1)\n",
            "Requirement already satisfied: fonttools>=4.22.0 in /usr/local/lib/python3.10/dist-packages (from matplotlib) (4.54.1)\n",
            "Requirement already satisfied: kiwisolver>=1.0.1 in /usr/local/lib/python3.10/dist-packages (from matplotlib) (1.4.7)\n",
            "Requirement already satisfied: numpy<2,>=1.21 in /usr/local/lib/python3.10/dist-packages (from matplotlib) (1.26.4)\n",
            "Requirement already satisfied: packaging>=20.0 in /usr/local/lib/python3.10/dist-packages (from matplotlib) (24.1)\n",
            "Requirement already satisfied: pillow>=6.2.0 in /usr/local/lib/python3.10/dist-packages (from matplotlib) (10.4.0)\n",
            "Requirement already satisfied: pyparsing>=2.3.1 in /usr/local/lib/python3.10/dist-packages (from matplotlib) (3.2.0)\n",
            "Requirement already satisfied: python-dateutil>=2.7 in /usr/local/lib/python3.10/dist-packages (from matplotlib) (2.8.2)\n",
            "Requirement already satisfied: six>=1.5 in /usr/local/lib/python3.10/dist-packages (from python-dateutil>=2.7->matplotlib) (1.16.0)\n",
            "Requirement already satisfied: pandas in /usr/local/lib/python3.10/dist-packages (2.2.2)\n",
            "Requirement already satisfied: numpy>=1.22.4 in /usr/local/lib/python3.10/dist-packages (from pandas) (1.26.4)\n",
            "Requirement already satisfied: python-dateutil>=2.8.2 in /usr/local/lib/python3.10/dist-packages (from pandas) (2.8.2)\n",
            "Requirement already satisfied: pytz>=2020.1 in /usr/local/lib/python3.10/dist-packages (from pandas) (2024.2)\n",
            "Requirement already satisfied: tzdata>=2022.7 in /usr/local/lib/python3.10/dist-packages (from pandas) (2024.2)\n",
            "Requirement already satisfied: six>=1.5 in /usr/local/lib/python3.10/dist-packages (from python-dateutil>=2.8.2->pandas) (1.16.0)\n",
            "Requirement already satisfied: numpy in /usr/local/lib/python3.10/dist-packages (1.26.4)\n",
            "Requirement already satisfied: seaborn in /usr/local/lib/python3.10/dist-packages (0.13.2)\n",
            "Requirement already satisfied: numpy!=1.24.0,>=1.20 in /usr/local/lib/python3.10/dist-packages (from seaborn) (1.26.4)\n",
            "Requirement already satisfied: pandas>=1.2 in /usr/local/lib/python3.10/dist-packages (from seaborn) (2.2.2)\n",
            "Requirement already satisfied: matplotlib!=3.6.1,>=3.4 in /usr/local/lib/python3.10/dist-packages (from seaborn) (3.8.0)\n",
            "Requirement already satisfied: contourpy>=1.0.1 in /usr/local/lib/python3.10/dist-packages (from matplotlib!=3.6.1,>=3.4->seaborn) (1.3.0)\n",
            "Requirement already satisfied: cycler>=0.10 in /usr/local/lib/python3.10/dist-packages (from matplotlib!=3.6.1,>=3.4->seaborn) (0.12.1)\n",
            "Requirement already satisfied: fonttools>=4.22.0 in /usr/local/lib/python3.10/dist-packages (from matplotlib!=3.6.1,>=3.4->seaborn) (4.54.1)\n",
            "Requirement already satisfied: kiwisolver>=1.0.1 in /usr/local/lib/python3.10/dist-packages (from matplotlib!=3.6.1,>=3.4->seaborn) (1.4.7)\n",
            "Requirement already satisfied: packaging>=20.0 in /usr/local/lib/python3.10/dist-packages (from matplotlib!=3.6.1,>=3.4->seaborn) (24.1)\n",
            "Requirement already satisfied: pillow>=6.2.0 in /usr/local/lib/python3.10/dist-packages (from matplotlib!=3.6.1,>=3.4->seaborn) (10.4.0)\n",
            "Requirement already satisfied: pyparsing>=2.3.1 in /usr/local/lib/python3.10/dist-packages (from matplotlib!=3.6.1,>=3.4->seaborn) (3.2.0)\n",
            "Requirement already satisfied: python-dateutil>=2.7 in /usr/local/lib/python3.10/dist-packages (from matplotlib!=3.6.1,>=3.4->seaborn) (2.8.2)\n",
            "Requirement already satisfied: pytz>=2020.1 in /usr/local/lib/python3.10/dist-packages (from pandas>=1.2->seaborn) (2024.2)\n",
            "Requirement already satisfied: tzdata>=2022.7 in /usr/local/lib/python3.10/dist-packages (from pandas>=1.2->seaborn) (2024.2)\n",
            "Requirement already satisfied: six>=1.5 in /usr/local/lib/python3.10/dist-packages (from python-dateutil>=2.7->matplotlib!=3.6.1,>=3.4->seaborn) (1.16.0)\n"
          ]
        }
      ],
      "source": [
        "!pip install matplotlib\n",
        "import matplotlib.pyplot as plt\n",
        "\n",
        "!pip install pandas\n",
        "import pandas as pd\n",
        "\n",
        "!pip install numpy\n",
        "import numpy as np\n",
        "\n",
        "!pip install seaborn\n",
        "import seaborn as sns\n",
        "\n",
        "import warnings\n",
        "warnings.filterwarnings('ignore')"
      ]
    },
    {
      "cell_type": "markdown",
      "source": [
        "<a name=\"p1\"></a>\n",
        "\n",
        "---\n",
        "## **Part 1: Scatter Plots**\n",
        "---"
      ],
      "metadata": {
        "id": "35kCNtZbRXbC"
      }
    },
    {
      "cell_type": "markdown",
      "source": [
        "### **Problem #1.1**\n",
        "\n",
        "**Together**, we will create a scatter plot. First, run the code below to create your DataFrame called `df`. We'll include the following for our titles:\n",
        "\n",
        "* A title that reads `The Relationship Between Height and Weight in Patients`.\n",
        "* A x-axis label called `Weight (lbs)` and a y-axis label called `Height (in)`.\n",
        "\n"
      ],
      "metadata": {
        "id": "Sn8pkut_R79Z"
      }
    },
    {
      "cell_type": "code",
      "source": [
        "# create dataframe\n",
        "df = pd.DataFrame({\"ID\": [101, 102, 103, 104, 105, 106, 107, 108, 109, 110, 111, 112, 113, 114, 115],\n",
        "           \"Weight\": [125, 101, 165, 187, 144, 202, 113, 191, 223, 303, 166, 150, 108, 217, 191],\n",
        "           \"Gender\": ['F', 'F', 'M', 'M', 'F', 'M', 'F', 'M', 'M', 'F', 'F', 'M', 'F', 'M', 'M'],\n",
        "           \"Height (in)\": [64, 59, 70, 72, 66, 72, 61, 71, 74, 69, 69, 67, 60, 70, 65]})\n",
        "\n",
        "# reorganize columns\n",
        "df = df[['ID', 'Gender', 'Height (in)', 'Weight']]\n",
        "\n",
        "print(df)"
      ],
      "metadata": {
        "id": "aXBmSAeHmrYu",
        "colab": {
          "base_uri": "https://localhost:8080/",
          "height": 216
        },
        "outputId": "d1a89695-0d78-4ed2-c461-fe6f03fde283"
      },
      "execution_count": null,
      "outputs": [
        {
          "output_type": "error",
          "ename": "NameError",
          "evalue": "name 'pd' is not defined",
          "traceback": [
            "\u001b[0;31m---------------------------------------------------------------------------\u001b[0m",
            "\u001b[0;31mNameError\u001b[0m                                 Traceback (most recent call last)",
            "\u001b[0;32m<ipython-input-2-e5efe4c0f3ac>\u001b[0m in \u001b[0;36m<cell line: 2>\u001b[0;34m()\u001b[0m\n\u001b[1;32m      1\u001b[0m \u001b[0;31m# create dataframe\u001b[0m\u001b[0;34m\u001b[0m\u001b[0;34m\u001b[0m\u001b[0m\n\u001b[0;32m----> 2\u001b[0;31m df = pd.DataFrame({\"ID\": [101, 102, 103, 104, 105, 106, 107, 108, 109, 110, 111, 112, 113, 114, 115],\n\u001b[0m\u001b[1;32m      3\u001b[0m            \u001b[0;34m\"Weight\"\u001b[0m\u001b[0;34m:\u001b[0m \u001b[0;34m[\u001b[0m\u001b[0;36m125\u001b[0m\u001b[0;34m,\u001b[0m \u001b[0;36m101\u001b[0m\u001b[0;34m,\u001b[0m \u001b[0;36m165\u001b[0m\u001b[0;34m,\u001b[0m \u001b[0;36m187\u001b[0m\u001b[0;34m,\u001b[0m \u001b[0;36m144\u001b[0m\u001b[0;34m,\u001b[0m \u001b[0;36m202\u001b[0m\u001b[0;34m,\u001b[0m \u001b[0;36m113\u001b[0m\u001b[0;34m,\u001b[0m \u001b[0;36m191\u001b[0m\u001b[0;34m,\u001b[0m \u001b[0;36m223\u001b[0m\u001b[0;34m,\u001b[0m \u001b[0;36m303\u001b[0m\u001b[0;34m,\u001b[0m \u001b[0;36m166\u001b[0m\u001b[0;34m,\u001b[0m \u001b[0;36m150\u001b[0m\u001b[0;34m,\u001b[0m \u001b[0;36m108\u001b[0m\u001b[0;34m,\u001b[0m \u001b[0;36m217\u001b[0m\u001b[0;34m,\u001b[0m \u001b[0;36m191\u001b[0m\u001b[0;34m]\u001b[0m\u001b[0;34m,\u001b[0m\u001b[0;34m\u001b[0m\u001b[0;34m\u001b[0m\u001b[0m\n\u001b[1;32m      4\u001b[0m            \u001b[0;34m\"Gender\"\u001b[0m\u001b[0;34m:\u001b[0m \u001b[0;34m[\u001b[0m\u001b[0;34m'F'\u001b[0m\u001b[0;34m,\u001b[0m \u001b[0;34m'F'\u001b[0m\u001b[0;34m,\u001b[0m \u001b[0;34m'M'\u001b[0m\u001b[0;34m,\u001b[0m \u001b[0;34m'M'\u001b[0m\u001b[0;34m,\u001b[0m \u001b[0;34m'F'\u001b[0m\u001b[0;34m,\u001b[0m \u001b[0;34m'M'\u001b[0m\u001b[0;34m,\u001b[0m \u001b[0;34m'F'\u001b[0m\u001b[0;34m,\u001b[0m \u001b[0;34m'M'\u001b[0m\u001b[0;34m,\u001b[0m \u001b[0;34m'M'\u001b[0m\u001b[0;34m,\u001b[0m \u001b[0;34m'F'\u001b[0m\u001b[0;34m,\u001b[0m \u001b[0;34m'F'\u001b[0m\u001b[0;34m,\u001b[0m \u001b[0;34m'M'\u001b[0m\u001b[0;34m,\u001b[0m \u001b[0;34m'F'\u001b[0m\u001b[0;34m,\u001b[0m \u001b[0;34m'M'\u001b[0m\u001b[0;34m,\u001b[0m \u001b[0;34m'M'\u001b[0m\u001b[0;34m]\u001b[0m\u001b[0;34m,\u001b[0m\u001b[0;34m\u001b[0m\u001b[0;34m\u001b[0m\u001b[0m\n\u001b[1;32m      5\u001b[0m            \"Height (in)\": [64, 59, 70, 72, 66, 72, 61, 71, 74, 69, 69, 67, 60, 70, 65]})\n",
            "\u001b[0;31mNameError\u001b[0m: name 'pd' is not defined"
          ]
        }
      ]
    },
    {
      "cell_type": "code",
      "source": [
        "plt.scatter(# COMPLETE THIS LINE\n",
        "plt.title(# COMPLETE THIS LINE\n",
        "plt.xlabel(# COMPLETE THIS LINE\n",
        "plt.ylabel(# COMPLETE THIS LINE\n",
        "plt.show()"
      ],
      "metadata": {
        "id": "ucy2CbbnrbTU",
        "collapsed": true
      },
      "execution_count": null,
      "outputs": []
    },
    {
      "cell_type": "markdown",
      "source": [
        "---\n",
        "#### **Try Problem #1.2-1.3 on your own.**\n",
        "---"
      ],
      "metadata": {
        "id": "Mq2gi4MoMF52"
      }
    },
    {
      "cell_type": "markdown",
      "source": [
        "### **Problem #1.2**\n",
        "\n",
        "Create a scatter plot using the `x` and `y` data from `df`. First, run the code below to create your DataFrame called `df`. Make sure to include the following:\n",
        "\n",
        "* A title that reads `Speed of Cars vs. Age of Car`.\n",
        "* A x-axis label called `Age of Car (years)` and a y-axis label called `Speed (mph)`."
      ],
      "metadata": {
        "id": "Rt7sp1RNIHjW"
      }
    },
    {
      "cell_type": "code",
      "source": [
        "df = pd.DataFrame({'x': [5,7,8,7,2,17,2,9,4,11,12,9,6], 'y': [99,86,87,88,111,86,103,87,94,78,77,85,86]})\n",
        "\n",
        "# COMPLETE THIS CODE"
      ],
      "metadata": {
        "id": "KBMpuhuwIHtw"
      },
      "execution_count": null,
      "outputs": []
    },
    {
      "cell_type": "markdown",
      "source": [
        "### **Problem #1.3.1**\n",
        "\n",
        "Practice making a scatter plot with the cereal dataset imported from github.\n",
        "\n",
        "1. First, run this cell to import your data.\n"
      ],
      "metadata": {
        "id": "2kBaHFQUoLCh"
      }
    },
    {
      "cell_type": "code",
      "source": [
        "cereals = pd.read_csv('https://raw.githubusercontent.com/pippalotherTCS/testing/main/cereals/cereal.csv')\n",
        "\n",
        "cereals.head()"
      ],
      "metadata": {
        "id": "ZShMfqUNSQI-"
      },
      "execution_count": null,
      "outputs": []
    },
    {
      "cell_type": "markdown",
      "source": [
        "\n",
        "### **Problem #1.3.2**\n",
        "\n",
        "You're going to plot a smaller section or a subset of the data from the `cereals` dataframe.\n",
        "\n",
        "Select the first 20 rows of the `calories` and `protein` columns and save them in a new dataframe using the EDA pandas methods you learned.\n",
        "\n",
        "**Hint:** Use `.iloc` or `.head`."
      ],
      "metadata": {
        "id": "jjCg-pkhn9sY"
      }
    },
    {
      "cell_type": "code",
      "source": [
        "# COMPLETE THIS CODE"
      ],
      "metadata": {
        "id": "e3j_K3mBn-FS"
      },
      "execution_count": null,
      "outputs": []
    },
    {
      "cell_type": "markdown",
      "source": [
        "### **Problem #1.3.3**\n",
        "\n",
        "Plot protein along the x-axis and calories along the y-axis and add the appropriate titles and labels for each axis."
      ],
      "metadata": {
        "id": "t6KcbY57oe4D"
      }
    },
    {
      "cell_type": "code",
      "source": [
        "# COMPLETE THIS CODE"
      ],
      "metadata": {
        "id": "ofXwJDyQolTM"
      },
      "execution_count": null,
      "outputs": []
    },
    {
      "cell_type": "markdown",
      "source": [
        "<center>\n",
        "\n",
        "---\n",
        "### **Back to Lecture**\n",
        "---\n",
        "\n",
        "</center>"
      ],
      "metadata": {
        "id": "KO9EgSEdJ979"
      }
    },
    {
      "cell_type": "markdown",
      "source": [
        "<a name=\"p2\"></a>\n",
        "\n",
        "---\n",
        "## **Part 2: Line Plots**\n",
        "---"
      ],
      "metadata": {
        "id": "nGhw3y8aWiTT"
      }
    },
    {
      "cell_type": "markdown",
      "source": [
        "### **Problem #2.1**\n",
        "\n",
        "**Together**, we will create a line plot. First, run the code below to create your DataFrame called `heights`. Make sure to include the following:\n",
        "\n",
        "* A title that reads `Patients Height Over Time`.\n",
        "* A x-axis label called `Age` and a y-axis label called `Height (in)`."
      ],
      "metadata": {
        "id": "-AgTMHaeSth3"
      }
    },
    {
      "cell_type": "code",
      "source": [
        "#create dataframe\n",
        "heights = pd.DataFrame({\"Age\": [0, 1, 2, 3, 4, 5, 6, 7, 8, 9, 10, 11, 12, 13, 14, 15, 16, 17, 18], \"Height (in)\": [12, 18, 24, 30, 34, 38, 42, 45, 47, 50, 53, 56, 59, 62, 67, 68, 69, 70, 70]})\n",
        "heights"
      ],
      "metadata": {
        "id": "LXeV9SWOSzq3"
      },
      "execution_count": null,
      "outputs": []
    },
    {
      "cell_type": "code",
      "source": [
        "plt.plot(#\n",
        "plt.title(# COMPLETE THIS LINE\n",
        "plt.xlabel(# COMPLETE THIS LINE\n",
        "plt.ylabel(# COMPLETE THIS LINE\n",
        "plt.show()"
      ],
      "metadata": {
        "id": "Abe7GHjAZ3RA"
      },
      "execution_count": null,
      "outputs": []
    },
    {
      "cell_type": "markdown",
      "source": [
        "---\n",
        "#### **Try Problem #2.2 on your own.**\n",
        "---"
      ],
      "metadata": {
        "id": "TqOVvPeO5CUv"
      }
    },
    {
      "cell_type": "markdown",
      "source": [
        "### **Problem #2.2.1**\n",
        "\n",
        "Now, it's time to create a line plot using a dictionary of your own.\n",
        "\n",
        "* Create a dictionary with keys and lists of values using the starter code below.\n",
        "* Have at least six values in the lists corresponding to x and y.\n",
        "\n",
        "**Hint**: Think about what type of relationship you'll need between the x and y values. In line graphs, there is typically one y-value for each x-value."
      ],
      "metadata": {
        "id": "cli6KeMRS86H"
      }
    },
    {
      "cell_type": "code",
      "source": [
        "my_dictionary = {'x': [], 'y': []}"
      ],
      "metadata": {
        "id": "k3VmfD-AS-3I"
      },
      "execution_count": null,
      "outputs": []
    },
    {
      "cell_type": "code",
      "source": [
        "# COMPLETE THIS CODE"
      ],
      "metadata": {
        "id": "5FxhGMWlsuxg"
      },
      "execution_count": null,
      "outputs": []
    },
    {
      "cell_type": "markdown",
      "source": [
        "### **Problem #2.2.2**\n",
        "\n",
        "Now, convert your dictionary into a dataframe."
      ],
      "metadata": {
        "id": "lnDk_h5js3tm"
      }
    },
    {
      "cell_type": "code",
      "source": [
        "# COMPLETE THIS CODE"
      ],
      "metadata": {
        "id": "242k5PEts3-v"
      },
      "execution_count": null,
      "outputs": []
    },
    {
      "cell_type": "markdown",
      "source": [
        "### **Problem #2.2.3**\n",
        "Using your new dataframe, create a line graph and give it the appropriate titles depending on what type of imaginary data you generated."
      ],
      "metadata": {
        "id": "T3jtDpXwtKED"
      }
    },
    {
      "cell_type": "code",
      "source": [
        "# COMPLETE THIS CODE"
      ],
      "metadata": {
        "id": "iuZHEIcutKUB"
      },
      "execution_count": null,
      "outputs": []
    },
    {
      "cell_type": "markdown",
      "source": [
        "<center>\n",
        "\n",
        "---\n",
        "### **Back to Lecture**\n",
        "---\n",
        "\n",
        "</center>"
      ],
      "metadata": {
        "id": "CQeTZdP4J7B0"
      }
    },
    {
      "cell_type": "markdown",
      "source": [
        "<a name=\"p3\"></a>\n",
        "\n",
        "---\n",
        "## **Part 3: Bar Plots**\n",
        "---"
      ],
      "metadata": {
        "id": "g6oBbsgKWm2M"
      }
    },
    {
      "cell_type": "markdown",
      "source": [
        "### **Problem #3.1**\n",
        "\n",
        "**Together**, we will create a bar plot. First, run the code below to create your DataFrame called `courses`. Make sure to include the following:\n",
        "\n",
        "* A title that reads `Students Enrolled in Different Courses`.\n",
        "* A x-axis label called `Courses Offered\"` and a y-axis label called `Number of Students Enrolled`."
      ],
      "metadata": {
        "id": "IMHC6e1aTQJZ"
      }
    },
    {
      "cell_type": "code",
      "source": [
        "courses = pd.DataFrame({'courses': ['Maths', 'English','Science','Music'], 'students': [35,15,30,50]})\n",
        "\n",
        "courses.head()"
      ],
      "metadata": {
        "id": "uns-Cu9yTb6F"
      },
      "execution_count": null,
      "outputs": []
    },
    {
      "cell_type": "code",
      "source": [
        "# COMPLETE THIS CODE"
      ],
      "metadata": {
        "id": "79b_5k9Mn_U9"
      },
      "execution_count": null,
      "outputs": []
    },
    {
      "cell_type": "markdown",
      "source": [
        "---\n",
        "#### **Try Problem #3.2-3.3 on your own.**\n",
        "---"
      ],
      "metadata": {
        "id": "HBqq5Mq_OFAj"
      }
    },
    {
      "cell_type": "markdown",
      "source": [
        "### **Problem #3.2**\n",
        "\n",
        "\n",
        "Create a bar plot. First, run the code below to create your DataFrame called `langs`. Make sure to include the following:\n",
        "\n",
        "* A title that reads `Number of Students in Different Programming Classes`.\n",
        "* A x-axis label called `Programming Classes` and a y-axis label called `Number of Students`."
      ],
      "metadata": {
        "id": "5GNtcXXqTkEr"
      }
    },
    {
      "cell_type": "code",
      "source": [
        "langs = pd.DataFrame({'langs': ['C', 'C++', 'Java', 'Python', 'PHP'], 'students': [23,17,35,29,12]})"
      ],
      "metadata": {
        "id": "VD1AoLbhTpOj"
      },
      "execution_count": null,
      "outputs": []
    },
    {
      "cell_type": "code",
      "source": [
        "# COMPLETE THIS CODE"
      ],
      "metadata": {
        "id": "jhW9Y3xPtxHK"
      },
      "execution_count": null,
      "outputs": []
    },
    {
      "cell_type": "markdown",
      "source": [
        "### **Problem #3.3.1**\n",
        "Using the cereals dataframe from part 1, create a bar graph that shows how many hot and cold cereals there are using the `type` column.\n",
        "\n",
        "Start by using `.value_counts()` on the `type` column to count each type and save it in a new variable.\n",
        "\n",
        "What do these unique values represent? Hint: the temperature of the cereal once it's prepared!"
      ],
      "metadata": {
        "id": "i1ft_KewOVlA"
      }
    },
    {
      "cell_type": "code",
      "source": [
        "# COMPLETE THIS CODE"
      ],
      "metadata": {
        "id": "CriQVQ7FX3_I"
      },
      "execution_count": null,
      "outputs": []
    },
    {
      "cell_type": "markdown",
      "source": [
        "### **Problem #3.3.2**\n",
        "\n",
        "Now, you need to separate the unique values and their counts before plotting your bar graph.\n",
        "\n",
        "* For the x-values, call `.index` on the variable you created in the previous problem. Store the values in a new variable.\n",
        "* For the y-values, call `.values` on the variable you created in the previous problem. Store the values in a new variable.\n",
        "\n",
        "**Note**: `.index` and `.counts` are both attributes of the object you create when you call `.value_counts()`"
      ],
      "metadata": {
        "id": "Vw8mGbojOV6p"
      }
    },
    {
      "cell_type": "code",
      "source": [
        "# COMPLETE THIS CODE"
      ],
      "metadata": {
        "id": "hKllS-lOOWIa"
      },
      "execution_count": null,
      "outputs": []
    },
    {
      "cell_type": "markdown",
      "source": [
        "### **Problem #3.3.3**\n",
        "Using the new variables you created, plot a bar graph with the appropriate titles."
      ],
      "metadata": {
        "id": "hdCEKJs8aAuW"
      }
    },
    {
      "cell_type": "code",
      "source": [
        "# COMPLETE THIS CODE"
      ],
      "metadata": {
        "id": "gBj-7J32aA7C"
      },
      "execution_count": null,
      "outputs": []
    },
    {
      "cell_type": "markdown",
      "source": [
        "<center>\n",
        "\n",
        "---\n",
        "### **Back to Lecture**\n",
        "---\n",
        "\n",
        "</center>"
      ],
      "metadata": {
        "id": "sbxppuZnJqy6"
      }
    },
    {
      "cell_type": "markdown",
      "source": [
        "<a name=\"advanced\"></a>\n",
        "\n",
        "---\n",
        "## **[ADVANCED] Improving Visualizations**\n",
        "---\n",
        "\n",
        "In this section, we will explore several ways to improve upon the visuals we learned to make above."
      ],
      "metadata": {
        "id": "p5_an2bSV9UK"
      }
    },
    {
      "cell_type": "markdown",
      "source": [
        "<a name=\"p4\"></a>\n",
        "\n",
        "---\n",
        "## **Part 4: Improving Scatter Plots**\n",
        "---"
      ],
      "metadata": {
        "id": "8yXy7TnmVlsM"
      }
    },
    {
      "cell_type": "markdown",
      "source": [
        "### **Problem #4.1**\n",
        "\n",
        "We are given average temperature values for the months of the year for two cities: `city_A` and `city_B`. Let's plot each city's average temperatures. We'll need to make two scatter plots.\n",
        "\n",
        "Make `city_A` markers blue squares and `city_B` markers red stars. Add labels and a legend.\n",
        "\n",
        "From the graph, which city is most likely located in the Northeast and which is most likely located in the Southwest? (Assume both cities are in the U.S.)"
      ],
      "metadata": {
        "id": "dUqOMFqIqMGq"
      }
    },
    {
      "cell_type": "code",
      "source": [
        "city_A_temps = [60,65,67, 70, 77, 84, 94, 101, 90, 82, 62]\n",
        "city_B_temps = [-11, 14, 25, 32, 55, 73, 87, 92, 82, 66, 53]\n",
        "months = np.arange(1,12)"
      ],
      "metadata": {
        "id": "ZBZcgZ2trRtM"
      },
      "execution_count": null,
      "outputs": []
    },
    {
      "cell_type": "code",
      "source": [
        "# Plot here\n"
      ],
      "metadata": {
        "id": "B6nuqGlIOWDU"
      },
      "execution_count": null,
      "outputs": []
    },
    {
      "cell_type": "markdown",
      "source": [
        "### **Problem #4.2**\n",
        "\n",
        "Now, adjust the plot so that `city_A` markers are black diamonds and `city_B` markers are green octagons. You can find all the marker options [here](https://matplotlib.org/stable/api/markers_api.html)."
      ],
      "metadata": {
        "id": "XJTJjzIdhMuF"
      }
    },
    {
      "cell_type": "code",
      "source": [
        "city_A_temps = [60,65,67, 70, 77, 84, 94, 101, 90, 82, 62]\n",
        "city_B_temps = [-11, 14, 25, 32, 55, 73, 87, 92, 82, 66, 53]\n",
        "months = np.arange(1,12)"
      ],
      "metadata": {
        "id": "FGyhRMmBhMuG"
      },
      "execution_count": null,
      "outputs": []
    },
    {
      "cell_type": "code",
      "source": [
        "# Plot here\n",
        "\n"
      ],
      "metadata": {
        "id": "tDc50XjYOZ-g"
      },
      "execution_count": null,
      "outputs": []
    },
    {
      "cell_type": "markdown",
      "source": [
        "<center>\n",
        "\n",
        "---\n",
        "### **Back to Lecture**\n",
        "---\n",
        "\n",
        "</center>"
      ],
      "metadata": {
        "id": "6TUd01ph51e3"
      }
    },
    {
      "cell_type": "markdown",
      "source": [
        "### **Problem #4.3**\n",
        "\n",
        "Run the following cell to see the given scatter plot. As you can see, there is a lot of overlap of the points. So, let's set the transparency (`alpha`) to 0.5."
      ],
      "metadata": {
        "id": "D8fNYzcGUV3O"
      }
    },
    {
      "cell_type": "code",
      "source": [
        "# get data (ignore the sns part)\n",
        "tips_df = sns.load_dataset('tips')\n",
        "total_bill = tips_df.total_bill.to_numpy()\n",
        "tip = tips_df.tip.to_numpy()\n",
        "\n",
        "# plot data\n",
        "plt.scatter(total_bill, tip)\n",
        "plt.title('Total Bill vs Tip')\n",
        "plt.xlabel('Total Bill ($)')\n",
        "plt.ylabel('Tip ($)')\n",
        "plt.show()"
      ],
      "metadata": {
        "id": "ecevoMqiUb9p"
      },
      "execution_count": null,
      "outputs": []
    },
    {
      "cell_type": "code",
      "source": [
        "# Change transparency (first copy code from above)\n",
        "\n",
        "\n"
      ],
      "metadata": {
        "id": "7jPR8UfIOdym"
      },
      "execution_count": null,
      "outputs": []
    },
    {
      "cell_type": "markdown",
      "source": [
        "### **Problem #4.4**\n",
        "\n",
        "Using the scatter plot from the previous problem, change the size of the scatter points to reflect the the size of each dinner party using the variable `size_table_scaled`.\n",
        "\n",
        "Run the first code cell below to generate `size_table_scaled` and view its contents.\n",
        "\n",
        "Copy and update the scatter plot in the second code cell."
      ],
      "metadata": {
        "id": "EhK1ndAGms-O"
      }
    },
    {
      "cell_type": "code",
      "source": [
        "# use size_table_scaled for size\n",
        "size_table = tips_df['size'].to_numpy()\n",
        "size_table_scaled = [3*s**2 for s in size_table]  # we scale the numbers so they aren't too small for visualization\n",
        "\n",
        "print(size_table_scaled)"
      ],
      "metadata": {
        "id": "t2MCTEgcV0_b"
      },
      "execution_count": null,
      "outputs": []
    },
    {
      "cell_type": "code",
      "source": [
        "# Update the plot and change point size\n",
        "\n"
      ],
      "metadata": {
        "id": "NHaL6w0nOgBY"
      },
      "execution_count": null,
      "outputs": []
    },
    {
      "cell_type": "markdown",
      "source": [
        "<a name=\"p5\"></a>\n",
        "\n",
        "---\n",
        "## **Part 5: Improving Line Plots**\n",
        "---"
      ],
      "metadata": {
        "id": "ekZX9XHgvpBh"
      }
    },
    {
      "cell_type": "markdown",
      "source": [
        "### **Problem #5.1**\n",
        "\n",
        "Let's create a line plot with the following features:\n",
        "\n",
        "\n",
        "* A <font color=\"#8f24f2\"><b>purple</b></font>, dashed line\n",
        "* Small points on the line at each year\n",
        "* A legend\n",
        "\n"
      ],
      "metadata": {
        "id": "tCDKL5LXIDtm"
      }
    },
    {
      "cell_type": "code",
      "source": [
        "Year = [1920,1930,1940,1950,1960,1970,1980,1990,2000,2010]\n",
        "Unemployment_Rate = [9.8,12,8,7.2,6.9,7,6.5,6.2,5.5,6.3]\n",
        "\n",
        "# Create a line plot with the given specifications\n",
        "\n"
      ],
      "metadata": {
        "id": "u04mZF2WYrb1"
      },
      "execution_count": null,
      "outputs": []
    },
    {
      "cell_type": "markdown",
      "source": [
        "### **Problem #5.2**\n",
        "\n",
        "Using the following data, create a line plot. In addition:\n",
        "* Make that line dashed and dotted with `\"-.\"`\n",
        "* Add a grid to the background"
      ],
      "metadata": {
        "id": "Jf5F6kZOZFoI"
      }
    },
    {
      "cell_type": "code",
      "source": [
        "x = [1,2,3]  # x axis values\n",
        "y = [2,4,1]  # corresponding y axis values\n",
        "\n",
        "\n",
        "# Create a line plot with the given specifications\n",
        "\n"
      ],
      "metadata": {
        "id": "jWVJ7xzZZfk1"
      },
      "execution_count": null,
      "outputs": []
    },
    {
      "cell_type": "markdown",
      "source": [
        "<a name=\"p6\"></a>\n",
        "\n",
        "---\n",
        "## **Part 6: Improving Bar Plots**\n",
        "---"
      ],
      "metadata": {
        "id": "n0zfv749v-qj"
      }
    },
    {
      "cell_type": "markdown",
      "source": [
        "### **Problem #6.1**\n",
        "\n",
        "Let's make a bar plot using the data below where each bar as a different color.\n",
        "\n",
        "Adjust the width of the bars such that they are touching and there is no space between them."
      ],
      "metadata": {
        "id": "MsZMPksXamGz"
      }
    },
    {
      "cell_type": "code",
      "source": [
        "languages = ['English', 'French', 'Spanish', 'Chinese', 'Arabic']\n",
        "students = [23,17,35,29,12]\n",
        "\n",
        "\n",
        "# Create a bar plot with the given specifications\n",
        "\n"
      ],
      "metadata": {
        "id": "tun4npXIUqH9"
      },
      "execution_count": null,
      "outputs": []
    },
    {
      "cell_type": "markdown",
      "source": [
        "### **Problem #7.2**\n",
        "\n",
        "Use the following data to create a simple bar plot. Make all of the bars <font color=\"#3b47f5\"><b>blue</b></font> except bar `E`; make bar `E` <font color=\"red\"><b>red</b></font>."
      ],
      "metadata": {
        "id": "UBfUrUZBa0jQ"
      }
    },
    {
      "cell_type": "code",
      "source": [
        "height = [3, 12, 5, 18, 45]       # y\n",
        "bars = ['A', 'B', 'C', 'D', 'E']  # x\n",
        "\n",
        "\n",
        "# Create a bar plot with the given specifications\n",
        "\n"
      ],
      "metadata": {
        "id": "0WAX4X4wbGnS"
      },
      "execution_count": null,
      "outputs": []
    },
    {
      "cell_type": "markdown",
      "source": [
        "<a name=\"p7\"></a>\n",
        "\n",
        "---\n",
        "## **Part 7: Enhancing Plot Aesthetics**\n",
        "---\n",
        "\n",
        "**Run the cell below to import the data for the following problems.**\n",
        "\n",
        "This dataset contains information on U.S. agricultural exports in 2011."
      ],
      "metadata": {
        "id": "g4mLFO9lfZwS"
      }
    },
    {
      "cell_type": "code",
      "source": [
        "url = 'https://raw.githubusercontent.com/plotly/datasets/master/2011_us_ag_exports.csv'\n",
        "export_df = pd.read_csv(url)\n",
        "export_df.head()"
      ],
      "metadata": {
        "id": "7ltA47zfPiTN"
      },
      "execution_count": null,
      "outputs": []
    },
    {
      "cell_type": "markdown",
      "source": [
        "### **Problem #7.1**\n",
        "\n",
        "Let's compare the beef exports of different states using a bar plot. Adjust the size of the plot so that the graph and its labels are legible.\n",
        "\n",
        "\n",
        "\n",
        "**NOTE**: to use a dataframe for a graph, use the following syntax.\n",
        "```python\n",
        "plt.bar(export_df['x_variable'], export_df['y_variable'])\n",
        "```"
      ],
      "metadata": {
        "id": "nN0tkLl8PoT4"
      }
    },
    {
      "cell_type": "code",
      "source": [
        "# Adjust size of the graph plot\n",
        "\n"
      ],
      "metadata": {
        "id": "0JArGmUYP2jQ"
      },
      "execution_count": null,
      "outputs": []
    },
    {
      "cell_type": "markdown",
      "source": [
        "### **Problem #7.2**\n",
        "\n",
        "Compare the export of both beef and corn from different states using two subplots. One bar plot should be on top of the other.\n",
        "\n",
        "Adjust the size of the figure so that both plots and their labels are legible.\n",
        "\n",
        "Which states export large amounts of both beef and corn?"
      ],
      "metadata": {
        "id": "_TtWLwGvQS7U"
      }
    },
    {
      "cell_type": "code",
      "source": [],
      "metadata": {
        "id": "aRIt-71SQTvy"
      },
      "execution_count": null,
      "outputs": []
    },
    {
      "cell_type": "markdown",
      "source": [
        "<a name=\"p8\"></a>\n",
        "\n",
        "---\n",
        "## **Part 8: Text Customization**\n",
        "---"
      ],
      "metadata": {
        "id": "zWf-dga5fl6P"
      }
    },
    {
      "cell_type": "markdown",
      "source": [
        "### **Problem #8.1**\n",
        "\n",
        "Update your line plot from earlier to include the following:\n",
        "\n",
        "* Make the title bold and in the font `serif`\n",
        "* Make the x- and y-labels large and in the font `serif`"
      ],
      "metadata": {
        "id": "DrsWeKWtGs8d"
      }
    },
    {
      "cell_type": "code",
      "source": [
        "Year = [1920,1930,1940,1950,1960,1970,1980,1990,2000,2010]\n",
        "Unemployment_Rate = [9.8,12,8,7.2,6.9,7,6.5,6.2,5.5,6.3]\n",
        "\n",
        "plt.plot(Year, Unemployment_Rate, color = \"purple\", marker = \".\", label = \"Unemp. Rate\", ls = \"--\")\n",
        "plt.xlabel(\"Year\")                                # Update this line\n",
        "plt.ylabel(\"Unemployment Rate\")                   # Update this line\n",
        "plt.title(\"Unemployment rate over the years\")     # Update this line\n",
        "plt.legend()\n",
        "plt.show()"
      ],
      "metadata": {
        "id": "90dZKCTGcjFr",
        "colab": {
          "base_uri": "https://localhost:8080/",
          "height": 472
        },
        "outputId": "6bb2861f-ca0e-450a-9300-0b0464af012e"
      },
      "execution_count": null,
      "outputs": [
        {
          "output_type": "display_data",
          "data": {
            "text/plain": [
              "<Figure size 640x480 with 1 Axes>"
            ],
            "image/png": "[encoded data removed]"
          },
          "metadata": {}
        }
      ]
    },
    {
      "cell_type": "markdown",
      "source": [
        "<a name=\"p9\"></a>\n",
        "\n",
        "---\n",
        "## **Part 9: Independent Practice [OPTIONAL]**\n",
        "---"
      ],
      "metadata": {
        "id": "H750fLiv6rdm"
      }
    },
    {
      "cell_type": "markdown",
      "source": [
        "### **Problem #9.1**\n",
        "\n",
        "Using the following data, create a line plot.\n",
        "\n",
        "**Hint:** Your graph should have three distinct lines corresponding to `y1`, `y2`, and `y3`.\n",
        "\n",
        "In addition:\n",
        "* Make sure each line is a different color\n",
        "* Make `y1` a dashed line\n",
        "* Add a grid to the background and make the background color lightgray\n",
        "* Make the background area *around* the plot a [light purple color](https://matplotlib.org/stable/gallery/color/named_colors.html#css-colors)\n",
        "* Add a legend"
      ],
      "metadata": {
        "id": "N2s15JrL54G8"
      }
    },
    {
      "cell_type": "code",
      "source": [
        "# x axis values\n",
        "x = [1,2,3,4,5]\n",
        "# corresponding y axis values\n",
        "y1 = [2,4,6,8,10]       # y = 2x\n",
        "y2 = [0.5,1,1.5,2,2.5]  # y = 0.5x\n",
        "y3 = [1,4,9,16,25]      # y = x^2\n",
        "\n",
        "# Add your plot\n",
        "\n"
      ],
      "metadata": {
        "id": "n_wxFXOn54HF"
      },
      "execution_count": null,
      "outputs": []
    },
    {
      "cell_type": "markdown",
      "source": [
        "### **Problem #9.2**\n",
        "\n",
        "Using the following data, create a scatter plot. In addition:\n",
        "* Make the data points green\n",
        "* Change the transparency to 0.6\n",
        "* Make the x-label `Temperature (Fahrenheit)` and in the font `fantasy`\n",
        "* Make the y-label `Number of People` and in the font `fantasy`\n",
        "* Make the title `Number of People at the Beach` and in the font `fantasy`"
      ],
      "metadata": {
        "id": "1zi19lH88t_L"
      }
    },
    {
      "cell_type": "code",
      "source": [
        "# x axis values\n",
        "x = [87, 94, 98, 102, 96, 90, 92, 93, 85, 82, 96, 80, 90, 91]\n",
        "# corresponding y axis values\n",
        "y = [204, 375, 522, 731, 439, 302, 317, 346, 268, 197, 649, 158, 327, 353]\n",
        "\n",
        "# plot"
      ],
      "metadata": {
        "id": "HzKR7meU8t_W"
      },
      "execution_count": null,
      "outputs": []
    },
    {
      "cell_type": "markdown",
      "source": [
        "### **Problem #9.3**\n",
        "\n",
        "Using the following data, create a bar plot. In addition:\n",
        "* Make each bar's color the same as the color name\n",
        "* Make the x-label `Favorite Color` and with a font size of 12\n",
        "* Make the y-label `Number of People` and with a font size of 12\n",
        "* Make the title `Number of People vs Favorite Color` and with a font size of 20\n",
        "* Make the bar width 0.6"
      ],
      "metadata": {
        "id": "y-ILZBA-8ukB"
      }
    },
    {
      "cell_type": "code",
      "source": [
        "# x axis values\n",
        "x = [1,2,3,4,5]\n",
        "# corresponding y axis values\n",
        "y1 = [2,4,6,8,10]\n",
        "y2 = [0.5,1,1.5,2,2.5]\n",
        "y3 = [1,4,9,16,25]\n",
        "\n",
        "# plot"
      ],
      "metadata": {
        "id": "C-PM-Uc18ukC"
      },
      "execution_count": null,
      "outputs": []
    },
    {
      "cell_type": "markdown",
      "source": [
        "### **Problem #9.4**\n",
        "\n",
        "Using the following data, create a line plot. In addition:\n",
        "* Make line y1 brown and dashed, and make line y2 pink\n",
        "* Add a grid to the background\n",
        "* Add a legend\n",
        "* Make the title `X vs Y` in font `monospace` and in size 18\n"
      ],
      "metadata": {
        "id": "CArAIjgv8vLv"
      }
    },
    {
      "cell_type": "code",
      "source": [
        "# x axis values\n",
        "x = [1,2,3,4,5,6,7]\n",
        "# corresponding y axis values\n",
        "y1 = [9, 4, 6, 8, 22, 17, 13]\n",
        "y2 = [3, 5, 8, 12, 17, 23, 30]\n",
        "\n",
        "# plot"
      ],
      "metadata": {
        "id": "FwFLRWyN8vLw"
      },
      "execution_count": null,
      "outputs": []
    },
    {
      "cell_type": "markdown",
      "source": [
        "### **Problem #9.5**\n",
        "\n",
        "Create a bar plot for the following data with the following:\n",
        "* One bar showing the number of females in the dataset and another bar showing the number of males in the dataset.\n",
        "* Bars labeled 'Female' and 'Male'.\n",
        "* The y-axis labeled 'Number in Dataset' with extra large font.\n",
        "* A title called \"Number of Males and Females in the Dataset\" with extra large font.\n",
        "\n",
        "<br>\n",
        "\n",
        "**Hint**: You will need to use pandas functions to get the count of males and females in the data frame."
      ],
      "metadata": {
        "id": "wtniW7m3xIw8"
      }
    },
    {
      "cell_type": "code",
      "source": [
        "url = 'https://docs.google.com/spreadsheets/d/e/2PACX-1vSa0metcKBFqn-MHLn05vVGWONMlzljcWa-xIM1wJPXIa5kbrmIzGqmWcMh8eKG_ntByF9qqn6Mx3MT/pub?gid=1052859518&single=true&output=csv'\n",
        "df = pd.read_csv(url)\n",
        "df.head()\n",
        "# COMPLETE THIS CODE"
      ],
      "metadata": {
        "id": "sIlQ3hR5yXJE"
      },
      "execution_count": null,
      "outputs": []
    },
    {
      "cell_type": "markdown",
      "source": [
        "---\n",
        "#End of Notebook\n",
        "\n",
        "© 2025 The Coding School, All rights reserved"
      ],
      "metadata": {
        "id": "_HyK3MU03rBY"
      }
    }
  ]
}